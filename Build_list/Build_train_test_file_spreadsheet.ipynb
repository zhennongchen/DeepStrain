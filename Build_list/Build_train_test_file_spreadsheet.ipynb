{
 "cells": [
  {
   "attachments": {},
   "cell_type": "markdown",
   "metadata": {},
   "source": [
    "Training, Validation and testing dataset were labeled by batch manually"
   ]
  },
  {
   "cell_type": "code",
   "execution_count": 1,
   "metadata": {},
   "outputs": [],
   "source": [
    "import sys\n",
    "sys.path.append(\"../\")\n",
    "import os\n",
    "import numpy as np\n",
    "import pandas as pd\n",
    "import DeepStrain.functions_collection as ff"
   ]
  },
  {
   "cell_type": "code",
   "execution_count": 2,
   "metadata": {},
   "outputs": [],
   "source": [
    "data_path_checked = '/mnt/mount_zc_NAS/HFpEF/data/HFpEF_data'\n",
    "data_path_unchecked = '/mnt/mount_zc_NAS/HFpEF/data/HFpEF_data/unchecked'"
   ]
  },
  {
   "cell_type": "code",
   "execution_count": 3,
   "metadata": {},
   "outputs": [
    {
     "name": "stdout",
     "output_type": "stream",
     "text": [
      "checked_cases:  50\n",
      "unchecked_cases:  53\n"
     ]
    }
   ],
   "source": [
    "checked_cases = ff.find_all_target_files(['ID*'], os.path.join(data_path_checked, 'nii_manual_seg'))\n",
    "unchecked_cases = ff.find_all_target_files(['ID*'], os.path.join(data_path_unchecked, 'nii_manual_seg'))\n",
    "print('checked_cases: ', len(checked_cases))\n",
    "print('unchecked_cases: ', len(unchecked_cases))"
   ]
  },
  {
   "cell_type": "code",
   "execution_count": 4,
   "metadata": {},
   "outputs": [
    {
     "name": "stdout",
     "output_type": "stream",
     "text": [
      "100\n"
     ]
    }
   ],
   "source": [
    "def split_batch(total_samples, num_batches):\n",
    "    samples_per_batch = total_samples // num_batches\n",
    "\n",
    "    # Calculate the number of samples in the last batch\n",
    "    samples_in_last_batch = total_samples % num_batches\n",
    "\n",
    "    # Create the list of batch indices\n",
    "    batch_indices = []\n",
    "    for i in range(num_batches):\n",
    "        batch_indices.extend([i] * samples_per_batch)\n",
    "\n",
    "    # Add the remaining samples to the last batch\n",
    "    batch_indices.extend([num_batches-1] * samples_in_last_batch)\n",
    "    return batch_indices\n",
    "\n",
    "checked_batch = split_batch(len(checked_cases) * 2, 10)\n",
    "unchecked_batch = split_batch(len(unchecked_cases), 10)\n",
    "\n",
    "print(len(checked_batch))\n"
   ]
  },
  {
   "cell_type": "code",
   "execution_count": 6,
   "metadata": {},
   "outputs": [],
   "source": [
    "patient_list_checked = pd.read_excel(os.path.join(data_path_checked, 'Patient_list', 'Important_HFpEF_Patient_list_unique_patient_w_notes.xlsx' ))\n",
    "patient_list_unchecked = pd.read_excel(os.path.join(data_path_checked, 'Patient_list', 'full_list.xlsx' ))"
   ]
  },
  {
   "cell_type": "code",
   "execution_count": 7,
   "metadata": {},
   "outputs": [
    {
     "name": "stdout",
     "output_type": "stream",
     "text": [
      "ID_0015 15 0\n"
     ]
    },
    {
     "ename": "AssertionError",
     "evalue": "",
     "output_type": "error",
     "traceback": [
      "\u001b[0;31m---------------------------------------------------------------------------\u001b[0m",
      "\u001b[0;31mAssertionError\u001b[0m                            Traceback (most recent call last)",
      "\u001b[1;32m/workspace/Documents/DeepStrain/Build_list/Build_train_test_file_spreadsheet.ipynb Cell 7\u001b[0m line \u001b[0;36m3\n\u001b[1;32m     <a href='vscode-notebook-cell://attached-container%2B7b22636f6e7461696e65724e616d65223a222f646f636b65725f6578227d@ssh-remote%2B7b22686f73744e616d65223a227a68656e6e6f6e676368656e5f434344535f67707535227d/workspace/Documents/DeepStrain/Build_list/Build_train_test_file_spreadsheet.ipynb#W6sdnNjb2RlLXJlbW90ZQ%3D%3D?line=27'>28</a>\u001b[0m \u001b[39m# pred_seg \u001b[39;00m\n\u001b[1;32m     <a href='vscode-notebook-cell://attached-container%2B7b22636f6e7461696e65724e616d65223a222f646f636b65725f6578227d@ssh-remote%2B7b22686f73744e616d65223a227a68656e6e6f6e676368656e5f434344535f67707535227d/workspace/Documents/DeepStrain/Build_list/Build_train_test_file_spreadsheet.ipynb#W6sdnNjb2RlLXJlbW90ZQ%3D%3D?line=28'>29</a>\u001b[0m pred_seg_file \u001b[39m=\u001b[39m os\u001b[39m.\u001b[39mpath\u001b[39m.\u001b[39mjoin(\u001b[39m'\u001b[39m\u001b[39m/mnt/mount_zc_NAS//DeepStrain/results/trained/seg\u001b[39m\u001b[39m'\u001b[39m, patient_id, \u001b[39m'\u001b[39m\u001b[39mpred_seg_frame\u001b[39m\u001b[39m'\u001b[39m\u001b[39m+\u001b[39m\u001b[39mstr\u001b[39m(tf)\u001b[39m+\u001b[39m\u001b[39m'\u001b[39m\u001b[39m.nii.gz\u001b[39m\u001b[39m'\u001b[39m)\n\u001b[0;32m---> <a href='vscode-notebook-cell://attached-container%2B7b22636f6e7461696e65724e616d65223a222f646f636b65725f6578227d@ssh-remote%2B7b22686f73744e616d65223a227a68656e6e6f6e676368656e5f434344535f67707535227d/workspace/Documents/DeepStrain/Build_list/Build_train_test_file_spreadsheet.ipynb#W6sdnNjb2RlLXJlbW90ZQ%3D%3D?line=29'>30</a>\u001b[0m \u001b[39massert\u001b[39;00m os\u001b[39m.\u001b[39mpath\u001b[39m.\u001b[39misfile(pred_seg_file) \u001b[39m==\u001b[39m \u001b[39m1\u001b[39m\n\u001b[1;32m     <a href='vscode-notebook-cell://attached-container%2B7b22636f6e7461696e65724e616d65223a222f646f636b65725f6578227d@ssh-remote%2B7b22686f73744e616d65223a227a68656e6e6f6e676368656e5f434344535f67707535227d/workspace/Documents/DeepStrain/Build_list/Build_train_test_file_spreadsheet.ipynb#W6sdnNjb2RlLXJlbW90ZQ%3D%3D?line=31'>32</a>\u001b[0m \u001b[39m# nrrd\u001b[39;00m\n\u001b[1;32m     <a href='vscode-notebook-cell://attached-container%2B7b22636f6e7461696e65724e616d65223a222f646f636b65725f6578227d@ssh-remote%2B7b22686f73744e616d65223a227a68656e6e6f6e676368656e5f434344535f67707535227d/workspace/Documents/DeepStrain/Build_list/Build_train_test_file_spreadsheet.ipynb#W6sdnNjb2RlLXJlbW90ZQ%3D%3D?line=32'>33</a>\u001b[0m nrrd_file \u001b[39m=\u001b[39m os\u001b[39m.\u001b[39mpath\u001b[39m.\u001b[39mjoin(data_path_checked, \u001b[39m'\u001b[39m\u001b[39mnrrd\u001b[39m\u001b[39m'\u001b[39m, \u001b[39m'\u001b[39m\u001b[39mneed_\u001b[39m\u001b[39m'\u001b[39m\u001b[39m+\u001b[39m patient_id, \u001b[39m'\u001b[39m\u001b[39mOrg3D_frame\u001b[39m\u001b[39m'\u001b[39m \u001b[39m+\u001b[39m \u001b[39mstr\u001b[39m(tf) \u001b[39m+\u001b[39m \u001b[39m'\u001b[39m\u001b[39m.nrrd\u001b[39m\u001b[39m'\u001b[39m)\n",
      "\u001b[0;31mAssertionError\u001b[0m: "
     ]
    }
   ],
   "source": [
    "Results = []\n",
    "for i in range(0,checked_cases.shape[0]):\n",
    "    patient_id = os.path.basename(checked_cases[i])\n",
    "    patient_id_num = ff.ID_00XX_to_XX(patient_id)\n",
    "\n",
    "    batch = checked_batch[i * 2]\n",
    "\n",
    "    print(patient_id, patient_id_num, batch)\n",
    "\n",
    "    ED = patient_list_checked[patient_list_checked['OurID'] == patient_id_num]['ED'].values[0].astype(int)\n",
    "    ES = patient_list_checked[patient_list_checked['OurID'] == patient_id_num]['ES'].values[0].astype(int)\n",
    "\n",
    "    for e in ['ED', 'ES']:\n",
    "        if e == 'ED':\n",
    "            tf = ED\n",
    "           \n",
    "        else:\n",
    "            tf = ES\n",
    "        \n",
    "\n",
    "        # img:\n",
    "        img_file = os.path.join(data_path_checked, 'nii_img', patient_id, 'Org3D_frame' + str(tf) + '.nii.gz')\n",
    "        assert os.path.isfile(img_file) == 1\n",
    "        # manual seg:\n",
    "        seg_file = os.path.join(data_path_checked, 'nii_manual_seg', patient_id, 'SAX_' + e + '_seg.nii.gz')\n",
    "        assert os.path.isfile(seg_file) == 1\n",
    "\n",
    "        # pred_seg \n",
    "        pred_seg_file = os.path.join('/mnt/mount_zc_NAS//DeepStrain/results/trained/seg', patient_id, 'pred_seg_frame'+str(tf)+'.nii.gz')\n",
    "        assert os.path.isfile(pred_seg_file) == 1\n",
    "\n",
    "        # nrrd\n",
    "        nrrd_file = os.path.join(data_path_checked, 'nrrd', 'need_'+ patient_id, 'Org3D_frame' + str(tf) + '.nrrd')\n",
    "        assert os.path.isfile(nrrd_file) == 1\n",
    "\n",
    "        Results.append([patient_id, patient_id_num, batch,'checked', e, tf, img_file, seg_file, pred_seg_file, nrrd_file])\n",
    "\n",
    "\n",
    "column_list = ['Patient_ID', 'OurID', 'batch', 'checked', 'ED_ES', 'tf', 'img_file', 'seg_file', 'pred_seg_file', 'nrrd_file']\n",
    "df_checked = pd.DataFrame(Results, columns = column_list)\n",
    "# df_checked.to_excel(os.path.join('/mnt/mount_zc_NAS//DeepStrain/data', 'Patient_list', 'Patient_list_version1.xlsx'), index=False)\n",
    "\n",
    "Results = []\n",
    "for i in range(0,unchecked_cases.shape[0]):\n",
    "    patient_id = os.path.basename(unchecked_cases[i])\n",
    "    patient_id_num = ff.ID_00XX_to_XX(patient_id)\n",
    "\n",
    "    batch = unchecked_batch[i]\n",
    "    print(patient_id, patient_id_num, batch)\n",
    "\n",
    "    ED = int(patient_list_unchecked.loc[patient_list_unchecked['OurID'] == patient_id_num]['ED'])\n",
    "    ES = int(patient_list_unchecked.loc[patient_list_unchecked['OurID'] == patient_id_num]['ES'])\n",
    "\n",
    "    print(ED,ES)\n",
    "\n",
    "    for e in ['ED']:\n",
    "        if e == 'ED':\n",
    "            tf = ED\n",
    "        else:\n",
    "            tf = ES\n",
    "\n",
    "        # img:\n",
    "        img_file = os.path.join(data_path_unchecked, 'nii_img', patient_id, 'Org3D_frame' + str(tf) + '.nii.gz')\n",
    "        print(img_file)\n",
    "        assert os.path.isfile(img_file) == 1\n",
    "        # manual seg:\n",
    "        seg_file = os.path.join(data_path_unchecked, 'nii_manual_seg', patient_id, 'SAX_' + e + '_seg.nii.gz')\n",
    "        assert os.path.isfile(seg_file) == 1\n",
    "\n",
    "        # pred_seg \n",
    "        pred_seg_file = os.path.join('/mnt/mount_zc_NAS//DeepStrain/results/trained/seg', patient_id, 'pred_seg_frame'+str(tf)+'.nii.gz')\n",
    "        assert os.path.isfile(pred_seg_file) == 1\n",
    "\n",
    "        # nrrd\n",
    "        nrrd_file = os.path.join(data_path_checked, 'nrrd', 'need_'+ patient_id, 'Org3D_frame' + str(tf) + '.nrrd')\n",
    "        assert os.path.isfile(nrrd_file) == 1\n",
    "\n",
    "        Results.append([patient_id, patient_id_num, batch,'checked', e, tf, img_file, seg_file, pred_seg_file, nrrd_file])\n",
    "\n",
    "\n",
    "column_list = ['Patient_ID', 'OurID', 'batch', 'unchecked', 'ED_ES', 'tf', 'img_file', 'seg_file', 'pred_seg_file', 'nrrd_file']\n",
    "df_unchecked = pd.DataFrame(Results, columns = column_list)\n",
    "\n",
    "stacked_df = pd.concat([df_checked, df_unchecked], ignore_index=True)\n",
    "sorted_df = stacked_df.sort_values(by=['batch', 'OurID'], ascending=True)\n",
    "\n",
    "sorted_df.to_excel(os.path.join('/mnt/mount_zc_NAS//DeepStrain/data', 'Patient_list', 'Patient_list_for_seg.xlsx'), index=False)\n",
    "\n"
   ]
  }
 ],
 "metadata": {
  "kernelspec": {
   "display_name": "Python 3.8.10 64-bit",
   "language": "python",
   "name": "python3"
  },
  "language_info": {
   "codemirror_mode": {
    "name": "ipython",
    "version": 3
   },
   "file_extension": ".py",
   "mimetype": "text/x-python",
   "name": "python",
   "nbconvert_exporter": "python",
   "pygments_lexer": "ipython3",
   "version": "3.8.10"
  },
  "vscode": {
   "interpreter": {
    "hash": "e7370f93d1d0cde622a1f8e1c04877d8463912d04d973331ad4851f04de6915a"
   }
  }
 },
 "nbformat": 4,
 "nbformat_minor": 4
}
