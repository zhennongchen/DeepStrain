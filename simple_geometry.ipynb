{
 "cells": [
  {
   "cell_type": "code",
   "execution_count": 2,
   "metadata": {},
   "outputs": [],
   "source": [
    "import sys\n",
    "sys.path.append(\"../\")\n",
    "import os\n",
    "import numpy as np\n",
    "import nibabel as nb\n",
    "import pandas as pd\n",
    "import matplotlib.pylab as plt\n",
    "from data.nifti_dataset import resample_nifti\n",
    "from data.base_dataset import _roll2center_crop\n",
    "from scipy.ndimage.measurements import center_of_mass\n",
    "\n",
    "import DeepStrain.functions_collection as ff\n",
    "import CMR_HFpEF_Analysis.Image_utils as util\n",
    "\n",
    "main_path = '/mnt/mount_zc_NAS/Deepstrain'\n",
    "data_path = '/mnt/mount_zc_NAS/HFpEF/data/HFpEF_data'\n",
    "spreadsheet = pd.read_excel(os.path.join(data_path, 'Patient_list', 'Important_HFpEF_Patient_list_unique_patient_w_readmission_finalized.xlsx' ))"
   ]
  },
  {
   "cell_type": "code",
   "execution_count": 3,
   "metadata": {},
   "outputs": [],
   "source": [
    "# find patinet_list\n",
    "patient_list = spreadsheet.iloc[0:50]\n",
    "patient_index = 5"
   ]
  },
  {
   "cell_type": "code",
   "execution_count": 9,
   "metadata": {},
   "outputs": [
    {
     "name": "stdout",
     "output_type": "stream",
     "text": [
      "ID_0483 1 8\n",
      "[2, 3, 4, 5, 6, 7, 8, 9] 8\n",
      "(224, 224, 10)\n",
      "M shape:  (128, 128, 10)\n"
     ]
    },
    {
     "data": {
      "image/png": "[encoded data removed]",
      "text/plain": [
       "<Figure size 800x400 with 2 Axes>"
      ]
     },
     "metadata": {},
     "output_type": "display_data"
    }
   ],
   "source": [
    "# first: get the ED and ES frame\n",
    "patient_id_num = patient_list['OurID'].iloc[patient_index]\n",
    "patient_id = ff.XX_to_ID_00XX(patient_id_num)\n",
    "patient_row = spreadsheet.loc[spreadsheet['OurID'] == patient_id_num]\n",
    "ED = patient_row['ED'].values[0].astype(int)\n",
    "ES = patient_row['ES'].values[0].astype(int)\n",
    "print(patient_id, ED,ES)\n",
    "\n",
    "save_folder = os.path.join(main_path, 'results/geometry/', patient_id)\n",
    "ff.make_folder([save_folder])\n",
    "\n",
    "# second: load img and seg\n",
    "patient_seg_folder = os.path.join(data_path, 'nii_manual_seg', patient_id)\n",
    "\n",
    "M_nifti_ED = nb.load(os.path.join(patient_seg_folder, 'SAX_ED_seg.nii.gz'))\n",
    "\n",
    "\n",
    "# third: preprocess - change the label in segmentation: RV = 1, Myocardium = 2, LV = 3\n",
    "M_ED = np.round(M_nifti_ED.get_fdata()).astype(int)\n",
    "new_M_ED = np.zeros_like(M_ED)\n",
    "new_M_ED[M_ED==1] = 3\n",
    "new_M_ED[M_ED==2] = 2\n",
    "M_nifti_ED = nb.Nifti1Image(new_M_ED, affine=M_nifti_ED.affine, header=M_nifti_ED.header)\n",
    "\n",
    "# fourth: find the number of non-zero slices (that has LV + myocardium segmentation)\n",
    "slice_nonzero_ed = [i for i in range(new_M_ED.shape[2]) if np.sum(new_M_ED[:,:,i] > 1)>0]\n",
    "print(slice_nonzero_ed, len(slice_nonzero_ed))\n",
    "new_M_ED = new_M_ED[:,:,slice_nonzero_ed]\n",
    "new_M_ED_nifti = nb.Nifti1Image(new_M_ED, affine=M_nifti_ED.affine, header=M_nifti_ED.header)\n",
    "\n",
    "# fifth: resample the image to a uniform number of slices\n",
    "new_M_ED_nifti = resample_nifti(new_M_ED_nifti, order=0, in_plane_resolution_mm=1.25, number_of_slices=10)\n",
    "print(new_M_ED_nifti.get_fdata().shape)\n",
    "\n",
    "# sixth: crop\n",
    "center = center_of_mass(new_M_ED_nifti.get_fdata()>1) # RV = 1, Myocardium = 2, LV = 3\n",
    "M = _roll2center_crop(x=new_M_ED_nifti.get_fdata(), center=center)\n",
    "print('M shape: ', M.shape)\n",
    "\n",
    "# seventh: make it start from the base\n",
    "start_slice = np.copy(M[:,:,1]); start_slice[start_slice >0] = 1\n",
    "end_slice = np.copy(M[:,:,-2]); end_slice[end_slice >0] = 1\n",
    "if np.sum(start_slice) < np.sum(end_slice):\n",
    "    start_slice_name = 'apex'\n",
    "else:\n",
    "    start_slice_name = 'base'\n",
    "if start_slice_name == 'apex':\n",
    "    M = M[:,:,::-1]\n",
    "\n",
    "plt.figure(figsize=(8,4))\n",
    "plt.subplot(121); plt.imshow(M[:,:,0], cmap='gray')\n",
    "plt.subplot(122); plt.imshow(M[:,:,-1], cmap='gray')\n",
    "\n",
    "# eighth: save the image\n",
    "nb.save(nb.Nifti1Image(M, affine=new_M_ED_nifti.affine, header=new_M_ED_nifti.header), os.path.join(save_folder, 'SAX_ED_seg_for_geometry.nii.gz'))"
   ]
  },
  {
   "cell_type": "markdown",
   "metadata": {},
   "source": [
    "# calculate the circularity index per slice"
   ]
  },
  {
   "cell_type": "code",
   "execution_count": 5,
   "metadata": {},
   "outputs": [],
   "source": [
    "M_lv = np.copy(M); M_lv[M_lv != 3] = 0; M_lv[M_lv == 3] = 1\n",
    "M_lv = M_lv.astype(np.int)\n",
    "circular_index_img = util.circularity_index_img(M_lv, range(0,10))"
   ]
  },
  {
   "cell_type": "markdown",
   "metadata": {},
   "source": [
    "# calculate the center dis"
   ]
  },
  {
   "cell_type": "code",
   "execution_count": 7,
   "metadata": {},
   "outputs": [
    {
     "name": "stdout",
     "output_type": "stream",
     "text": [
      "enclosed_area:  9.0\n"
     ]
    }
   ],
   "source": [
    "centers_delta, centers = util.get_centers(M_lv, range(0,10), make_plot = False)\n",
    "centers_delta_neighbouring = centers_delta[1:] - centers_delta[:-1]\n",
    "enclosed_area = util.centers_enclosed_area(centers_delta, make_plot = False)\n",
    "print('enclosed_area: ', enclosed_area)"
   ]
  },
  {
   "cell_type": "markdown",
   "metadata": {},
   "source": [
    "# calculate the major and minor axis of each slice as well as the whole volume"
   ]
  },
  {
   "cell_type": "code",
   "execution_count": 8,
   "metadata": {},
   "outputs": [],
   "source": [
    "from skimage.measure import label, regionprops\n",
    "# per slice:\n",
    "axis_len = []\n",
    "for z in range(0, M_lv.shape[-1]):\n",
    "    img_slice = M_lv[:,:,z]\n",
    "    major, minor = util.major_minor_axis_len(img_slice)\n",
    "    axis_len.append([major, minor])\n",
    "major, _ = util.major_minor_axis_len(M_lv) # 3D\n",
    "axis_len.append([major, 10])\n",
    "axis_len = np.asarray(axis_len)\n"
   ]
  },
  {
   "cell_type": "code",
   "execution_count": null,
   "metadata": {},
   "outputs": [],
   "source": []
  }
 ],
 "metadata": {
  "kernelspec": {
   "display_name": "Python 3",
   "language": "python",
   "name": "python3"
  },
  "language_info": {
   "codemirror_mode": {
    "name": "ipython",
    "version": 3
   },
   "file_extension": ".py",
   "mimetype": "text/x-python",
   "name": "python",
   "nbconvert_exporter": "python",
   "pygments_lexer": "ipython3",
   "version": "3.8.10"
  }
 },
 "nbformat": 4,
 "nbformat_minor": 2
}
