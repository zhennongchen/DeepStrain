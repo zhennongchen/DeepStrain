{
 "cells": [
  {
   "cell_type": "markdown",
   "metadata": {},
   "source": [
    "collect all results into a spreadsheet"
   ]
  },
  {
   "cell_type": "code",
   "execution_count": 2,
   "metadata": {},
   "outputs": [
    {
     "name": "stderr",
     "output_type": "stream",
     "text": [
      "/usr/local/lib/python3.8/dist-packages/tqdm/auto.py:21: TqdmWarning: IProgress not found. Please update jupyter and ipywidgets. See https://ipywidgets.readthedocs.io/en/stable/user_install.html\n",
      "  from .autonotebook import tqdm as notebook_tqdm\n"
     ]
    }
   ],
   "source": [
    "import sys\n",
    "sys.path.append(\"../\")\n",
    "import os\n",
    "import numpy as np\n",
    "import nibabel as nb\n",
    "import pandas as pd\n",
    "import matplotlib.pylab as plt\n",
    "from data.nifti_dataset import resample_nifti\n",
    "from data.base_dataset import _roll2center_crop\n",
    "from scipy.ndimage.measurements import center_of_mass\n",
    "\n",
    "import DeepStrain.functions_collection as ff\n",
    "import CMR_HFpEF_Analysis.Image_utils as util\n",
    "\n",
    "main_path = '/mnt/mount_zc_NAS/Deepstrain'\n",
    "data_path = '/mnt/mount_zc_NAS/HFpEF/data/HFpEF_data'\n",
    "raw_spreadsheet = pd.read_excel(os.path.join(data_path, 'Patient_list', 'Important_HFpEF_Patient_list_unique_patient_w_readmission_finalized.xlsx' ))"
   ]
  },
  {
   "cell_type": "code",
   "execution_count": 6,
   "metadata": {},
   "outputs": [],
   "source": [
    "# define patient list:\n",
    "index_range = range(0,50)\n",
    "patient_list = raw_spreadsheet.iloc[index_range]\n",
    "save_folder = os.path.join(main_path, 'results/result_collections')"
   ]
  },
  {
   "cell_type": "markdown",
   "metadata": {},
   "source": [
    "# Spreadsheet for geometry measurements"
   ]
  },
  {
   "cell_type": "code",
   "execution_count": 50,
   "metadata": {},
   "outputs": [],
   "source": [
    "result = []\n",
    "for i in range(0, patient_list.shape[0]):\n",
    "    patient_id_num = patient_list['OurID'].iloc[i]\n",
    "    patient_id = ff.XX_to_ID_00XX(patient_id_num)\n",
    "   \n",
    "    # load geometry then:\n",
    "    geometry_folder = os.path.join(main_path, 'results/geometry', patient_id)\n",
    "    \n",
    "    # circular index\n",
    "    circular_index = np.load(os.path.join(geometry_folder, 'circular_index_collect.npy')).reshape(-1)  # 0:10\n",
    "    \n",
    "    # centers\n",
    "    centers = np.load(os.path.join(geometry_folder, 'centers_collect.npy'), allow_pickle=True)\n",
    "    center_delta_to_base = centers[1]\n",
    "    center_delta_X_to_base = centers[1][:,0].reshape(-1) # 10:20\n",
    "    center_delta_Y_to_base = centers[1][:,1].reshape(-1) # 20:30\n",
    "    center_delta_Euclidean_to_base = np.sqrt(np.square(center_delta_X_to_base) + np.square(center_delta_Y_to_base)) # 30:40\n",
    "    \n",
    "    enclosed_area = np.asarray(centers[-1]).reshape(-1) # 40:41\n",
    "\n",
    "\n",
    "    # axis len\n",
    "    axis = np.load(os.path.join(geometry_folder, 'axis_len_collect.npy'), allow_pickle=True)\n",
    "    major_axis = axis[:-1,0].reshape(-1) #41:51\n",
    "    minor_axis = axis[:-1,1].reshape(-1) #51:61\n",
    "\n",
    "    # combine these results together into a array of (num_parameters,)\n",
    "    a = np.round(np.concatenate((circular_index, center_delta_X_to_base, center_delta_Y_to_base, center_delta_Euclidean_to_base, enclosed_area, major_axis, minor_axis), axis=0),3)\n",
    "    a = [patient_id_num, patient_id] + a.tolist()\n",
    "    \n",
    "    result.append(a)\n",
    "\n",
    "# save the result\n",
    "name = ['circular_index', 'center_delta_X_to_base', 'center_delta_Y_to_base', 'center_delta_Euclidean_to_base', 'enclosed_area', 'major_axis', 'minor_axis']\n",
    "column_list = ['OurID', 'PatientID']\n",
    "for n in name:\n",
    "    if n[0:3] != 'enc': # 'enclosed_area' is a single value\n",
    "        for i in range(0,10):\n",
    "            column_list.append(n + '_slice_' + str(i + 1))\n",
    "    else:\n",
    "        column_list.append(n)\n",
    "\n",
    "df = pd.DataFrame(result, columns=column_list)\n",
    "df_info = patient_list[['OurID','Final label if count surgery at day 0', 'Final label if not count surgery at day 0', 'ZC label', 'ED', 'ES']]\n",
    "\n",
    "# merge df and df_info according to \"OurID\", df_info first then df\n",
    "df = pd.merge(df_info, df, on='OurID')\n",
    "# move patientID to the second column\n",
    "column_to_move = 'PatientID'\n",
    "target_position = 1 \n",
    "columns = df.columns.tolist()\n",
    "columns.remove(column_to_move)\n",
    "columns.insert(target_position, column_to_move)\n",
    "df = df[columns]\n",
    "\n",
    "df.to_excel(os.path.join(save_folder, 'geometry_collection.xlsx'), index=False)\n"
   ]
  },
  {
   "cell_type": "markdown",
   "metadata": {},
   "source": [
    "# Spreadsheet for strain measurements, ED and ES"
   ]
  },
  {
   "cell_type": "code",
   "execution_count": 51,
   "metadata": {},
   "outputs": [
    {
     "name": "stdout",
     "output_type": "stream",
     "text": [
      "['OurID', 'PatientID', 'Err_global', 'Ecc_global', 'Err_base', 'Err_mid', 'Err_apex', 'Ecc_base', 'Ecc_mid', 'Ecc_apex', 'Err_basal_anterior', 'Err_basal_anteroseptal', 'Err_basal_inferoseptal', 'Err_basal_inferior', 'Err_basal_inferolateral', 'Err_basal_anterolateral', 'Err_mid_anterior', 'Err_mid_anteroseptal', 'Err_mid_inferoseptal', 'Err_mid_inferior', 'Err_mid_inferolateral', 'Err_mid_anterolateral', 'Err_apical_anterior', 'Err_apical_septal', 'Err_apical_inferior', 'Err_apical_lateral', 'Ecc_basal_anterior', 'Ecc_basal_anteroseptal', 'Ecc_basal_inferoseptal', 'Ecc_basal_inferior', 'Ecc_basal_inferolateral', 'Ecc_basal_anterolateral', 'Ecc_mid_anterior', 'Ecc_mid_anteroseptal', 'Ecc_mid_inferoseptal', 'Ecc_mid_inferior', 'Ecc_mid_inferolateral', 'Ecc_mid_anterolateral', 'Ecc_apical_anterior', 'Ecc_apical_septal', 'Ecc_apical_inferior', 'Ecc_apical_lateral', 'WTCI_basal_anterior', 'WTCI_basal_anteroseptal', 'WTCI_basal_inferoseptal', 'WTCI_basal_inferior', 'WTCI_basal_inferolateral', 'WTCI_basal_anterolateral', 'WTCI_mid_anterior', 'WTCI_mid_anteroseptal', 'WTCI_mid_inferoseptal', 'WTCI_mid_inferior', 'WTCI_mid_inferolateral', 'WTCI_mid_anterolateral', 'WTCI_apical_anterior', 'WTCI_apical_septal', 'WTCI_apical_inferior', 'WTCI_apical_lateral'] 58\n"
     ]
    }
   ],
   "source": [
    "result = []\n",
    "for i in range(0, patient_list.shape[0]):\n",
    "    patient_id_num = patient_list['OurID'].iloc[i]\n",
    "    patient_id = ff.XX_to_ID_00XX(patient_id_num)\n",
    "   \n",
    "    # load strain first:\n",
    "    strain_folder = os.path.join(main_path, 'results/strain', patient_id)\n",
    "    # global strain\n",
    "    global_strain = np.load(os.path.join(strain_folder, 'global_strain.npy'))\n",
    "    global_radial_strain = np.asarray(global_strain[0]).reshape(-1)   # 0:1\n",
    "    global_circumferential_strain = np.asarray(global_strain[1]).reshape(-1) # 1:2\n",
    "\n",
    "    # layer strain\n",
    "    layer_strain = np.load(os.path.join(strain_folder, 'layer_strain.npy'))\n",
    "    layer_radial_strain = layer_strain[0,:].reshape(-1) # 2:5\n",
    "    layer_circumferential_strain = layer_strain[1,:].reshape(-1) # 5:8\n",
    "\n",
    "    # polar strain\n",
    "    polar_strain = np.load(os.path.join(strain_folder, 'polar_strain.npy'), allow_pickle=True)\n",
    "    Err_aha = np.asarray(polar_strain[5][:-1]).reshape(-1) # 8:24\n",
    "    Ecc_aha = np.asarray(polar_strain[7][:-1]).reshape(-1) # 24:40\n",
    "\n",
    "    # WTCI\n",
    "    wtci = np.load(os.path.join(strain_folder, 'wtci.npy'), allow_pickle=True)\n",
    "    wtci_aha = np.asarray(wtci[4][:-1]).reshape(-1) # 40:56\n",
    "\n",
    "    # combine these results together into a array of (num_parameters,)\n",
    "    a = np.round(np.concatenate((global_radial_strain, global_circumferential_strain, layer_radial_strain, layer_circumferential_strain, Ecc_aha, Err_aha, wtci_aha), axis=0),3)\n",
    "    a = [patient_id_num, patient_id] + a.tolist()\n",
    "    result.append(a)\n",
    "\n",
    "\n",
    "# save the result\n",
    "walls = ['basal_anterior', 'basal_anteroseptal', 'basal_inferoseptal', 'basal_inferior', 'basal_inferolateral', 'basal_anterolateral', 'mid_anterior', 'mid_anteroseptal', 'mid_inferoseptal', 'mid_inferior', 'mid_inferolateral', 'mid_anterolateral', 'apical_anterior', 'apical_septal', 'apical_inferior', 'apical_lateral']\n",
    "column_list = ['OurID', 'PatientID', 'Err_global', 'Ecc_global', 'Err_base', 'Err_mid', 'Err_apex', 'Ecc_base', 'Ecc_mid', 'Ecc_apex' ]\n",
    "for n in ['Err', 'Ecc','WTCI']:\n",
    "    for w in walls:\n",
    "        column_list.append(n + '_' + w)\n",
    "print(column_list, len(column_list))\n",
    "\n",
    "df = pd.DataFrame(result, columns=column_list)\n",
    "df_info = patient_list[['OurID','Final label if count surgery at day 0', 'Final label if not count surgery at day 0', 'ZC label', 'ED', 'ES', 'LVEF']]\n",
    "\n",
    "# merge df and df_info according to \"OurID\", df_info first then df\n",
    "df = pd.merge(df_info, df, on='OurID')\n",
    "# move patientID to the second column\n",
    "column_to_move = 'PatientID'\n",
    "target_position = 1 \n",
    "columns = df.columns.tolist()\n",
    "columns.remove(column_to_move)\n",
    "columns.insert(target_position, column_to_move)\n",
    "df = df[columns]\n",
    "\n",
    "df.to_excel(os.path.join(save_folder, 'strain_ED_ES_collection.xlsx'), index=False)"
   ]
  },
  {
   "cell_type": "code",
   "execution_count": null,
   "metadata": {},
   "outputs": [],
   "source": []
  }
 ],
 "metadata": {
  "kernelspec": {
   "display_name": "Python 3",
   "language": "python",
   "name": "python3"
  },
  "language_info": {
   "codemirror_mode": {
    "name": "ipython",
    "version": 3
   },
   "file_extension": ".py",
   "mimetype": "text/x-python",
   "name": "python",
   "nbconvert_exporter": "python",
   "pygments_lexer": "ipython3",
   "version": "3.8.10"
  }
 },
 "nbformat": 4,
 "nbformat_minor": 2
}
